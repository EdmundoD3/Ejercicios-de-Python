{
 "cells": [
  {
   "cell_type": "markdown",
   "metadata": {},
   "source": [
    "Programas de fortran parte 2:\n",
    "Echo por Edmundo David Rdz. Mendoza Matricula: 1633164 para el día 03/05/2020"
   ]
  },
  {
   "cell_type": "code",
   "execution_count": 1,
   "metadata": {},
   "outputs": [
    {
     "name": "stdout",
     "output_type": "stream",
     "text": [
      "Tabla de grados radianes\n",
      "Este programa imprime una tabla de grados y radianes con saltos de 3 grados y guarda una en un archivo\n",
      "|  θ  | rad\n",
      "|  0° | 0.0\n",
      "|  3° | 0.05235\n",
      "|  6° | 0.10471\n",
      "|  9° | 0.15707\n",
      "| 12° | 0.20943\n",
      "| 15° | 0.26179\n",
      "| 18° | 0.31415\n",
      "| 21° | 0.36651\n",
      "| 24° | 0.41887\n",
      "| 27° | 0.47123\n",
      "| 30° | 0.52359\n",
      "| 33° | 0.57595\n",
      "| 36° | 0.62831\n",
      "| 39° | 0.68067\n",
      "| 42° | 0.73303\n",
      "| 45° | 0.78539\n",
      "| 48° | 0.83775\n",
      "| 51° | 0.89011\n",
      "| 54° | 0.94247\n",
      "| 57° | 0.99483\n",
      "| 60° | 1.04719\n",
      "| 63° | 1.09955\n",
      "| 66° | 1.15191\n",
      "| 69° | 1.20427\n",
      "| 72° | 1.25663\n",
      "| 75° | 1.30899\n",
      "| 78° | 1.36135\n",
      "| 81° | 1.41371\n",
      "| 84° | 1.46607\n",
      "| 87° | 1.51843\n",
      "| 90° | 1.57079\n"
     ]
    }
   ],
   "source": [
    "run T11_Tabla_de_grados_radianes.py"
   ]
  },
  {
   "cell_type": "code",
   "execution_count": 8,
   "metadata": {
    "scrolled": true
   },
   "outputs": [
    {
     "name": "stdout",
     "output_type": "stream",
     "text": [
      "Este programa suma 2 matrices muestra en pantalla e imprime dichas matrices\n",
      "Ingrese el tamaño de la matriz\n",
      "Renglones: 2\n",
      "Columnas: 2\n",
      "Ingrese la primer matriz\n",
      "Introduzca el elemento 1 , 1\n",
      "1\n",
      "Introduzca el elemento 1 , 2\n",
      "2\n",
      "Introduzca el elemento 2 , 1\n",
      "3\n",
      "Introduzca el elemento 2 , 2\n",
      "4\n",
      "Ingrese la segunda matriz\n",
      "Introduzca el elemento 1 , 1\n",
      "1\n",
      "Introduzca el elemento 1 , 2\n",
      "1\n",
      "Introduzca el elemento 2 , 1\n",
      "1\n",
      "Introduzca el elemento 2 , 2\n",
      "1\n",
      "Ingrese un nombre para la matriz a imprimir\n",
      "matrizprueba\n",
      "La suma de matrices es:\n",
      "La primer matriz:\n",
      "[[1 2]\n",
      " [3 4]]\n",
      "La segunda matriz:\n",
      "[[1 1]\n",
      " [1 1]]\n",
      "La matriz resultante: \n",
      "[[2 3]\n",
      " [4 5]]\n",
      "El archivo se guardo en (matrizprueba.txt)\n",
      "¿Desea sumar otra matriz? si/no\n",
      "n\n"
     ]
    }
   ],
   "source": [
    "run T12_Suma_de_Matrices_imp.py"
   ]
  },
  {
   "cell_type": "code",
   "execution_count": 12,
   "metadata": {
    "scrolled": true
   },
   "outputs": [
    {
     "name": "stdout",
     "output_type": "stream",
     "text": [
      "Este programa imprime una tabla del promedio anual de temperatura con respecto a longitud y latitud y su promedio total\n",
      "Tanto en un archivo llamado Tabla_de_temperatura.txt como en pantalla\n",
      "Tabla de Temperatura\n",
      "        Longitud\n",
      "L       [90.  90.5 91.  91.5 92.  92.5] Prom\n",
      "a 30.0N [68.2 72.1 72.5 74.1 74.4 74.2] 72.5\n",
      "t 30.5N [69.4 71.1 71.9 73.1 73.6 73.7] 72.1\n",
      "i 31.0N [68.9 70.5 70.9 71.5 72.8 73. ] 71.2\n",
      "t 31.5N [68.6 69.9 70.4 70.8 71.5 72.2] 70.5\n",
      "u 32.0N [68.1 69.3 68.8 70.2 70.9 71.2] 69.7\n",
      "d 32.5N [68.3 68.8 69.6 70.  70.5 70.9] 69.6\n",
      "Promed= [68.5 70.2 70.6 71.6 72.2 72.5]\n"
     ]
    }
   ],
   "source": [
    "run T13_Temperatura_anual.py"
   ]
  },
  {
   "cell_type": "code",
   "execution_count": 14,
   "metadata": {
    "scrolled": false
   },
   "outputs": [
    {
     "name": "stdout",
     "output_type": "stream",
     "text": [
      "Distribucion de temperatura en una placa metalica\n",
      "Este programa calcula el estado estacionario en una placa donde en las orillas su temperatura es de 20 grados, todas las demas en 50 grados y el nodo (4,6) esta a 100 grados, los nodos de 20 grados y 100 grados, no varian su temperatura\n",
      "Imprime en un archivo llamado (Distribucion de temperatura placa metalica.txt) la placa con la temperatura estacionaria\n",
      "Placa original\n",
      "[[ 20.  20.  20.  20.  20.  20.  20.  20.  20.  20.]\n",
      " [ 20.  50.  50.  50.  50.  50.  50.  50.  50.  20.]\n",
      " [ 20.  50.  50.  50.  50.  50.  50.  50.  50.  20.]\n",
      " [ 20.  50.  50.  50.  50. 100.  50.  50.  50.  20.]\n",
      " [ 20.  50.  50.  50.  50.  50.  50.  50.  50.  20.]\n",
      " [ 20.  50.  50.  50.  50.  50.  50.  50.  50.  20.]\n",
      " [ 20.  50.  50.  50.  50.  50.  50.  50.  50.  20.]\n",
      " [ 20.  50.  50.  50.  50.  50.  50.  50.  50.  20.]\n",
      " [ 20.  50.  50.  50.  50.  50.  50.  50.  50.  20.]\n",
      " [ 20.  20.  20.  20.  20.  20.  20.  20.  20.  20.]]\n",
      "Placa con temperatura estacionaria:\n",
      "[[b'20.0' b'20.0' b'20.0' b'20.0' b'20.0' b'20.0' b'20.0' b'20.0' b'20.0'\n",
      "  b'20.0']\n",
      " [b'20.0' b'22.3' b'25.1' b'28.6' b'32.6' b'35.4' b'32.2' b'27.7' b'23.6'\n",
      "  b'20.0']\n",
      " [b'20.0' b'24.4' b'29.6' b'36.7' b'46.5' b'56.9' b'45.7' b'35.1' b'26.9'\n",
      "  b'20.0']\n",
      " [b'20.0' b'25.5' b'32.3' b'42.2' b'59.7' b'100.' b'58.8' b'40.1' b'28.8'\n",
      "  b'20.0']\n",
      " [b'20.0' b'25.5' b'31.8' b'39.9' b'50.3' b'60.9' b'49.3' b'37.7' b'28.2'\n",
      "  b'20.0']\n",
      " [b'20.0' b'24.7' b'29.7' b'35.3' b'40.8' b'44.1' b'39.9' b'33.3' b'26.5'\n",
      "  b'20.0']\n",
      " [b'20.0' b'23.5' b'27.1' b'30.6' b'33.6' b'34.8' b'32.8' b'29.1' b'24.6'\n",
      "  b'20.0']\n",
      " [b'20.0' b'22.3' b'24.5' b'26.6' b'28.2' b'28.6' b'27.6' b'25.5' b'22.9'\n",
      "  b'20.0']\n",
      " [b'20.0' b'21.1' b'22.2' b'23.1' b'23.8' b'24.0' b'23.5' b'22.6' b'21.3'\n",
      "  b'20.0']\n",
      " [b'20.0' b'20.0' b'20.0' b'20.0' b'20.0' b'20.0' b'20.0' b'20.0' b'20.0'\n",
      "  b'20.0']]\n"
     ]
    }
   ],
   "source": [
    "run T14_Placa_de_Temperatura.py"
   ]
  },
  {
   "cell_type": "code",
   "execution_count": 15,
   "metadata": {},
   "outputs": [
    {
     "name": "stdout",
     "output_type": "stream",
     "text": [
      "Este programa imprime la distancia de diversos puntos (1,1),(1,2)...(1,10),(2,1)...(2,10)...(10,10) desde el origen en un archivo llamado Distancia_entre_puntos.txt\n",
      "Se imprimio el archivo\n"
     ]
    }
   ],
   "source": [
    "run T15_Distancia_del_origen_a_un_punto.py"
   ]
  },
  {
   "cell_type": "code",
   "execution_count": 20,
   "metadata": {
    "scrolled": true
   },
   "outputs": [
    {
     "name": "stdout",
     "output_type": "stream",
     "text": [
      "Este programa calcula el senh(x), cosh(x) y tanh(x) (funciones hiperbolicas)\n",
      "Ingrese el valor que desea evaluar (x) de una funcion hiperbolica: \n",
      "1.5\n",
      "Senh(1.5)= 2.1292794550948173\n",
      "cosh(1.5)= 2.352409615243247\n",
      "tanh(1.5)= 0.9051482536448664\n",
      "¿Desea evaluar otra función hiperbolica? si/no\n",
      "n\n"
     ]
    }
   ],
   "source": [
    "run T16_Funciones_hiperbolicas.py"
   ]
  },
  {
   "cell_type": "code",
   "execution_count": 21,
   "metadata": {},
   "outputs": [
    {
     "name": "stdout",
     "output_type": "stream",
     "text": [
      "Este programa calcula la hipotenusa usando los catetos\n",
      "Introduce el cateto A\n",
      "2\n",
      "Introduce el cateto B\n",
      "3\n",
      "La hipotenusa es: 3.605551275463989\n",
      "¿Desea obtener otra hipotenusa usando dos catetos(si/no)?\n",
      "n\n"
     ]
    }
   ],
   "source": [
    "run T17_Hipotenusa.py"
   ]
  },
  {
   "cell_type": "code",
   "execution_count": 24,
   "metadata": {
    "scrolled": false
   },
   "outputs": [
    {
     "name": "stdout",
     "output_type": "stream",
     "text": [
      "Este programa ordena numeros enteros de mayor a menor\n",
      "¿Cuantos numeros desea ordenar?\n",
      "5\n",
      " \n",
      "Ingresa los numeros\n",
      "Ingresa el numero  1\n",
      "2\n",
      "Ingresa el numero  2\n",
      "-8\n",
      "Ingresa el numero  3\n",
      "7\n",
      "Ingresa el numero  4\n",
      "0\n",
      "Ingresa el numero  5\n",
      "-15\n",
      "Los numeros ordenados son: \n",
      "7\n",
      "2\n",
      "0\n",
      "-8\n",
      "-15\n",
      "¿Desea ordenar otra lista de numeros? si/no\n",
      "n\n"
     ]
    }
   ],
   "source": [
    "run T18_Ordenar_numeros.py"
   ]
  },
  {
   "cell_type": "code",
   "execution_count": 4,
   "metadata": {
    "scrolled": true
   },
   "outputs": [
    {
     "name": "stdout",
     "output_type": "stream",
     "text": [
      "***POTENCIA DE MATRICES***\n",
      "Este programa potencia matrices a la k potencia\n",
      "Ingrese el tamaño de la matriz a evaluar (n,n)\n",
      "n: 3\n",
      "Ingrese a que potencia k desea evaluarlo\n",
      "k: 62\n",
      "Ingrese la matriz a evaluar\n",
      "Introduzca el elemento 1 1\n",
      "3\n",
      "Introduzca el elemento 1 2\n",
      "4\n",
      "Introduzca el elemento 1 3\n",
      "-1\n",
      "Introduzca el elemento 2 1\n",
      "-2\n",
      "Introduzca el elemento 2 2\n",
      "-3\n",
      "Introduzca el elemento 2 3\n",
      "1\n",
      "Introduzca el elemento 3 1\n",
      "-2\n",
      "Introduzca el elemento 3 2\n",
      "-3\n",
      "Introduzca el elemento 3 3\n",
      "0\n",
      "La matriz original:\n",
      "[[ 3.  4. -1.]\n",
      " [-2. -3.  1.]\n",
      " [-2. -3.  0.]]\n",
      "La matriz en potencia 62 resultante: \n",
      "[[ 3.  3.  1.]\n",
      " [-2. -2. -1.]\n",
      " [ 0.  1. -1.]]\n",
      "¿Desea multiplicar otra matriz? si/no\n",
      "n\n"
     ]
    }
   ],
   "source": [
    "run T19_Potencia_de_matrices.py"
   ]
  },
  {
   "cell_type": "code",
   "execution_count": 11,
   "metadata": {
    "scrolled": true
   },
   "outputs": [
    {
     "name": "stdout",
     "output_type": "stream",
     "text": [
      "Minimos cuadrados\n",
      "Este programa calcula la pendiente (m), la intercepcion(b) y el coeficiente de relacion(r) de una regresion lineal\n",
      "¿Cuantos datos (en pares (x1,y1) se considera 1) desea evaluar? (minimo 3)\n",
      "10\n",
      "Ingresa el dato x(1):\n",
      "99\n",
      "Ingresa el dato y(1):\n",
      "1485\n",
      "Ingresa el dato x(2):\n",
      "75\n",
      "Ingresa el dato y(2):\n",
      "900\n",
      "Ingresa el dato x(3):\n",
      "85\n",
      "Ingresa el dato y(3):\n",
      "1105\n",
      "Ingresa el dato x(4):\n",
      "95\n",
      "Ingresa el dato y(4):\n",
      "1330\n",
      "Ingresa el dato x(5):\n",
      "90\n",
      "Ingresa el dato y(5):\n",
      "1440\n",
      "Ingresa el dato x(6):\n",
      "100\n",
      "Ingresa el dato y(6):\n",
      "1200\n",
      "Ingresa el dato x(7):\n",
      "93\n",
      "Ingresa el dato y(7):\n",
      "1209\n",
      "Ingresa el dato x(8):\n",
      "80\n",
      "Ingresa el dato y(8):\n",
      "1200\n",
      "Ingresa el dato x(9):\n",
      "87\n",
      "Ingresa el dato y(9):\n",
      "1218\n",
      "Ingresa el dato x(10):\n",
      "110\n",
      "Ingresa el dato y(10):\n",
      "1650\n",
      "TABLA DE DATOS\n",
      "#dato, x , y\n",
      "1.- 99.0  , 1485.0\n",
      "2.- 75.0  , 900.0\n",
      "3.- 85.0  , 1105.0\n",
      "4.- 95.0  , 1330.0\n",
      "5.- 90.0  , 1440.0\n",
      "6.- 100.0  , 1200.0\n",
      "7.- 93.0  , 1209.0\n",
      "8.- 80.0  , 1200.0\n",
      "9.- 87.0  , 1218.0\n",
      "10.- 110.0  , 1650.0\n",
      "Σx= 914.0 , Σy= 12737.0 , Σxy= 1180293.0 , Σx²= 84494.0 , Σy²= 16626455.0\n",
      "m= 16.901927912824867\n",
      "r= 0.8221798641627466\n",
      "b= -271.13621123219286\n"
     ]
    },
    {
     "data": {
      "image/png": "[encoded data removed]",
      "text/plain": [
       "<Figure size 432x288 with 1 Axes>"
      ]
     },
     "metadata": {
      "needs_background": "light"
     },
     "output_type": "display_data"
    }
   ],
   "source": [
    "run T20_Minimos_cuadrados.py"
   ]
  }
 ],
 "metadata": {
  "kernelspec": {
   "display_name": "Python 3 (ipykernel)",
   "language": "python",
   "name": "python3"
  },
  "language_info": {
   "codemirror_mode": {
    "name": "ipython",
    "version": 3
   },
   "file_extension": ".py",
   "mimetype": "text/x-python",
   "name": "python",
   "nbconvert_exporter": "python",
   "pygments_lexer": "ipython3",
   "version": "3.9.12"
  }
 },
 "nbformat": 4,
 "nbformat_minor": 2
}
