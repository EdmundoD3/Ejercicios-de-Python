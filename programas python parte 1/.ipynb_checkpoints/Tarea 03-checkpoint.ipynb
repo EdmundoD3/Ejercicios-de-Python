{
 "cells": [
  {
   "cell_type": "markdown",
   "metadata": {},
   "source": [
    "Tarea 03 Serie de fibonacci"
   ]
  },
  {
   "cell_type": "code",
   "execution_count": 1,
   "metadata": {},
   "outputs": [
    {
     "name": "stdout",
     "output_type": "stream",
     "text": [
      "Serie de fibonacci\n",
      "Este programa imprime la serie de fibonacci, primero los primeros 10 numeros, despues imprime la serie hasta lo que indique\n",
      "0\n",
      "1\n",
      "1\n",
      "2\n",
      "3\n",
      "5\n",
      "8\n",
      "13\n",
      "21\n",
      "34\n",
      "Esta parte imprime, la serie de fibonacci, hasta el numero que usted desee\n",
      "Ingrese hasta que numero desea la serie de fibonacci: 254\n",
      "0\n",
      "1\n",
      "1\n",
      "2\n",
      "3\n",
      "5\n",
      "8\n",
      "13\n",
      "21\n",
      "34\n",
      "55\n",
      "89\n",
      "144\n",
      "233\n"
     ]
    }
   ],
   "source": [
    "run T03_Serie_de_fibonacci.py"
   ]
  },
  {
   "cell_type": "markdown",
   "metadata": {},
   "source": [
    "Tarea 04 Formula general"
   ]
  },
  {
   "cell_type": "code",
   "execution_count": 2,
   "metadata": {},
   "outputs": [
    {
     "name": "stdout",
     "output_type": "stream",
     "text": [
      "Este programa con los coeficientes de La formula general, determina si la ecuación cuadratica tiene dos raices reales y diferentes, sus dos raices son iguales o si son imaginarias\n",
      "La formula general es: x=(-b±√(b²-4ac))/(2a) , y la ecuacion cuadratica es: ax²+bx+c\n",
      "Ingrese (a): 2\n",
      "Ingrese (b): 4\n",
      "Ingrese (c): -8\n",
      "Las dos raices son reales y diferentes\n",
      "r1= 4.944271909999159\n",
      "r2= -12.94427190999916\n"
     ]
    }
   ],
   "source": [
    "run T04_Formula_general.py"
   ]
  },
  {
   "cell_type": "markdown",
   "metadata": {},
   "source": [
    "Tarea 05 Ley de stefan-Boltzman"
   ]
  },
  {
   "cell_type": "code",
   "execution_count": 3,
   "metadata": {},
   "outputs": [
    {
     "name": "stdout",
     "output_type": "stream",
     "text": [
      "Este programa calcula la energia radiada por un cuerpo negro para la temperatura leida en grados fahrenheit utilizando la ley de Stefan-Boltzman; Eb=σT^4 ;σ=0.174X10^-8\n",
      "Ingresa la temperatura que desea evaluar en fahrenheit, del cuerpo negro a evaluar: 50\n",
      "La energia irradiada es: 115.95554514000001\n",
      "¿Desea evaluar otra energia? (si/no): \n",
      "n\n",
      "Fin del programa\n"
     ]
    }
   ],
   "source": [
    "run T05_Ley_de_Stefan_Boltzman.py"
   ]
  },
  {
   "cell_type": "markdown",
   "metadata": {},
   "source": [
    "Tarea 06 Ley de Planck"
   ]
  },
  {
   "cell_type": "code",
   "execution_count": 5,
   "metadata": {},
   "outputs": [
    {
     "name": "stdout",
     "output_type": "stream",
     "text": [
      "Este programa usando la ley de planck imprime la potencia emitida por un cuerpo negro macromatico, de las longitudes desde 0.2 micrometros, hasta 6.1 micrometros variando de 0.1 micrometros\n",
      "Longitud de onda 0.2\n",
      "Potencia 2.0756193037719065e-05\n",
      "Longitud de onda 0.30000000000000004\n",
      "Potencia 0.7146209638161849\n",
      "Longitud de onda 0.4\n",
      "Potencia 86.71101018453291\n",
      "Longitud de onda 0.5\n",
      "Potencia 1198.7803582674678\n",
      "Longitud de onda 0.6\n",
      "Potencia 5838.641120912861\n",
      "Longitud de onda 0.7\n",
      "Potencia 16050.852059105036\n",
      "Longitud de onda 0.7999999999999999\n",
      "Potencia 31332.863556178465\n",
      "Longitud de onda 0.8999999999999999\n",
      "Potencia 49176.185413953084\n",
      "Longitud de onda 0.9999999999999999\n",
      "Potencia 66721.24773284154\n",
      "Longitud de onda 1.0999999999999999\n",
      "Potencia 81852.58939036852\n",
      "Longitud de onda 1.2\n",
      "Potencia 93476.51395359915\n",
      "Longitud de onda 1.3\n",
      "Potencia 101339.13803748651\n",
      "Longitud de onda 1.4000000000000001\n",
      "Potencia 105718.18871090094\n",
      "Longitud de onda 1.5000000000000002\n",
      "Potencia 107153.81934678307\n",
      "Longitud de onda 1.6000000000000003\n",
      "Potencia 106264.81567235493\n",
      "Longitud de onda 1.7000000000000004\n",
      "Potencia 103642.80501933604\n",
      "Longitud de onda 1.8000000000000005\n",
      "Potencia 99801.93294618186\n",
      "Longitud de onda 1.9000000000000006\n",
      "Potencia 95162.64756107528\n",
      "Longitud de onda 2.0000000000000004\n",
      "Potencia 90054.00452639685\n",
      "Longitud de onda 2.1000000000000005\n",
      "Potencia 84724.55406328799\n",
      "Longitud de onda 2.2000000000000006\n",
      "Potencia 79356.06892161623\n",
      "Longitud de onda 2.3000000000000007\n",
      "Potencia 74077.10999749336\n",
      "Longitud de onda 2.400000000000001\n",
      "Potencia 68975.06409432911\n",
      "Longitud de onda 2.500000000000001\n",
      "Potencia 64106.197762594355\n",
      "Longitud de onda 2.600000000000001\n",
      "Potencia 59503.73513239541\n",
      "Longitud de onda 2.700000000000001\n",
      "Potencia 55184.17556184101\n",
      "Longitud de onda 2.800000000000001\n",
      "Potencia 51152.13632179678\n",
      "Longitud de onda 2.9000000000000012\n",
      "Potencia 47404.00551157812\n",
      "Longitud de onda 3.0000000000000013\n",
      "Potencia 43930.65963515578\n",
      "Longitud de onda 3.1000000000000014\n",
      "Potencia 40719.45931158269\n",
      "Longitud de onda 3.2000000000000015\n",
      "Potencia 37755.69561026674\n",
      "Longitud de onda 3.3000000000000016\n",
      "Potencia 35023.62294443238\n",
      "Longitud de onda 3.4000000000000017\n",
      "Potencia 32507.183783942954\n",
      "Longitud de onda 3.5000000000000018\n",
      "Potencia 30190.505655455465\n",
      "Longitud de onda 3.600000000000002\n",
      "Potencia 28058.231341755574\n",
      "Longitud de onda 3.700000000000002\n",
      "Potencia 26095.728026106317\n",
      "Longitud de onda 3.800000000000002\n",
      "Potencia 24289.20950850002\n",
      "Longitud de onda 3.900000000000002\n",
      "Potencia 22625.79679951715\n",
      "Longitud de onda 4.000000000000002\n",
      "Potencia 21093.535746880632\n",
      "Longitud de onda 4.100000000000001\n",
      "Potencia 19681.385363501362\n",
      "Longitud de onda 4.200000000000001\n",
      "Potencia 18379.18680478159\n",
      "Longitud de onda 4.300000000000001\n",
      "Potencia 17177.62017765774\n",
      "Longitud de onda 4.4\n",
      "Potencia 16068.154316981909\n",
      "Longitud de onda 4.5\n",
      "Potencia 15042.993155860047\n",
      "Longitud de onda 4.6\n",
      "Potencia 14095.021209035136\n",
      "Longitud de onda 4.699999999999999\n",
      "Potencia 13217.74987964479\n",
      "Longitud de onda 4.799999999999999\n",
      "Potencia 12405.265712687358\n",
      "Longitud de onda 4.899999999999999\n",
      "Potencia 11652.181295700082\n",
      "Longitud de onda 4.999999999999998\n",
      "Potencia 10953.58920549881\n",
      "Longitud de onda 5.099999999999998\n",
      "Potencia 10305.01918732699\n",
      "Longitud de onda 5.1999999999999975\n",
      "Potencia 9702.398605594599\n",
      "Longitud de onda 5.299999999999997\n",
      "Potencia 9142.016105873663\n",
      "Longitud de onda 5.399999999999997\n",
      "Potencia 8620.488362850983\n",
      "Longitud de onda 5.4999999999999964\n",
      "Potencia 8134.729748830273\n",
      "Longitud de onda 5.599999999999996\n",
      "Potencia 7681.924734975234\n",
      "Longitud de onda 5.699999999999996\n",
      "Potencia 7259.502827534345\n",
      "Longitud de onda 5.799999999999995\n",
      "Potencia 6865.115839934865\n",
      "Longitud de onda 5.899999999999995\n",
      "Potencia 6496.617306068678\n",
      "Longitud de onda 5.999999999999995\n",
      "Potencia 6152.043848280263\n",
      "Longitud de onda 6.099999999999994\n",
      "Potencia 5829.598324044057\n",
      "***Fin***\n"
     ]
    }
   ],
   "source": [
    "run T06_Ley_de_Planck.py"
   ]
  },
  {
   "cell_type": "code",
   "execution_count": 9,
   "metadata": {},
   "outputs": [
    {
     "name": "stdout",
     "output_type": "stream",
     "text": [
      "Este programa suma 2 matrices\n",
      "Ingrese el tamaño de la matriz\n",
      "Renglones: 3\n",
      "Columnas: 2\n",
      "Ingrese la primer matriz\n",
      "Introduzca el elemento 1 1\n",
      "1\n",
      "Introduzca el elemento 1 2\n",
      "2\n",
      "Introduzca el elemento 2 1\n",
      "3\n",
      "Introduzca el elemento 2 2\n",
      "4\n",
      "Introduzca el elemento 3 1\n",
      "5\n",
      "Introduzca el elemento 3 2\n",
      "6\n",
      "Ingrese la segunda matriz\n",
      "Introduzca el elemento 1 1\n",
      "2\n",
      "Introduzca el elemento 1 2\n",
      "2\n",
      "Introduzca el elemento 2 1\n",
      "2\n",
      "Introduzca el elemento 2 2\n",
      "2\n",
      "Introduzca el elemento 3 1\n",
      "2\n",
      "Introduzca el elemento 3 2\n",
      "2\n",
      "La suma de matrices es:\n",
      "La primer matriz:\n",
      "[[1 2]\n",
      " [3 4]\n",
      " [5 6]]\n",
      "La segunda matriz:\n",
      "[[2 2]\n",
      " [2 2]\n",
      " [2 2]]\n",
      "La matriz resultante: \n",
      "[[3 4]\n",
      " [5 6]\n",
      " [7 8]]\n",
      "¿Desea sumar otra matriz? si/no\n",
      "2\n",
      "El valor 2 No es valido, ingrese si/no: \n",
      "n\n",
      "***Fin***\n"
     ]
    }
   ],
   "source": [
    "run T07_Suma_de_Matrices.py"
   ]
  },
  {
   "cell_type": "markdown",
   "metadata": {},
   "source": [
    "Tarea 08 Producto punto"
   ]
  },
  {
   "cell_type": "code",
   "execution_count": 11,
   "metadata": {},
   "outputs": [
    {
     "name": "stdout",
     "output_type": "stream",
     "text": [
      "Este programa hace el producto punto de 2 vectores en R3, calcula e imprime\n",
      "Ingrese el primer vector <ai,aj,ak>\n",
      "Ingrese la componente ai\n",
      "5\n",
      "Ingrese la componente aj\n",
      "7\n",
      "Ingrese la componente ak\n",
      "6\n",
      "Ingrese el segundo vector <bi,bj,bk>\n",
      "Ingrese la componente bi\n",
      "2\n",
      "Ingrese la componente bj\n",
      "5\n",
      "Ingrese la componente bk\n",
      "0\n",
      "Los vectores \n",
      "a=<[5 7 6]>\n",
      "b=<[2 5 0]>\n",
      "Su producto punto a·b es: [10 35  0]\n",
      "¿Desea evaluar otro producto punto? si/no\n",
      "n\n",
      "*** Fin ***\n"
     ]
    }
   ],
   "source": [
    "run T08_Producto_punto.py"
   ]
  },
  {
   "cell_type": "markdown",
   "metadata": {},
   "source": [
    "Tarea 09 "
   ]
  },
  {
   "cell_type": "code",
   "execution_count": 15,
   "metadata": {},
   "outputs": [
    {
     "name": "stdout",
     "output_type": "stream",
     "text": [
      "***MULTIPLICACIÓN DE MATRICES***\n",
      "Este programa multiplica 2 matrices\n",
      "Ingrese el tamaño de la primer matriz\n",
      "Renglones: 3\n",
      "Columnas: 2\n",
      "Ingrese el tamaño de la segunda matriz\n",
      "La columna de la primer matriz son del mismo tamaño que los renglones de la segunda matriz\n",
      "Columnas: 3\n",
      "Ingrese la primer matriz\n",
      "Introduzca el elemento 1 1\n",
      "1\n",
      "Introduzca el elemento 1 2\n",
      "2\n",
      "Introduzca el elemento 2 1\n",
      "-1\n",
      "Introduzca el elemento 2 2\n",
      "5\n",
      "Introduzca el elemento 3 1\n",
      "6\n",
      "Introduzca el elemento 3 2\n",
      "8\n",
      "Ingrese la segunda matriz\n",
      "Introduzca el elemento 1 1\n",
      "4\n",
      "Introduzca el elemento 1 2\n",
      "-1\n",
      "Introduzca el elemento 1 3\n",
      "0\n",
      "Introduzca el elemento 2 1\n",
      "2\n",
      "Introduzca el elemento 2 2\n",
      "12\n",
      "Introduzca el elemento 2 3\n",
      "0\n",
      "La multiplicación de matrices es:\n",
      "La primer matriz:\n",
      "[[ 1  2]\n",
      " [-1  5]\n",
      " [ 6  8]]\n",
      "La segunda matriz:\n",
      "[[ 4 -1  0]\n",
      " [ 2 12  0]]\n",
      "La matriz resultante: \n",
      "[[ 8 23  0]\n",
      " [ 6 61  0]\n",
      " [40 90  0]]\n",
      "¿Desea multiplicar otra matriz? si/no\n",
      "n\n",
      "***Fin***\n"
     ]
    }
   ],
   "source": [
    "run T09_Multiplicacion_de_matrices.py"
   ]
  },
  {
   "cell_type": "code",
   "execution_count": 17,
   "metadata": {},
   "outputs": [
    {
     "name": "stdout",
     "output_type": "stream",
     "text": [
      "Este programa utilizando la serie:\n",
      "senx=Σ((-1)^n)x^(2n+1)/(2n+1)!\n",
      "obtiene la funcion seno(θ) Donde n es el numero de terminos de la serie que toma y evalua n=4,6,9,10 e imprime esos valores\n",
      "Ingresa el angulo a evaluar en grados: 5\n",
      "Seno(5.0)=\n",
      "En n=4 es:  0.08715574275900945\n",
      "En n=6 es:  0.08715574275900945\n",
      "En n=9 es:  0.08715574275900945\n",
      "En n=10 es:  0.08715574275900945\n",
      "¿Desea obtener otra funcion seno? si/no\n",
      "s\n",
      "Ingresa el angulo a evaluar en grados: 30\n",
      "Seno(30.0)=\n",
      "En n=4 es:  0.5000000000794881\n",
      "En n=6 es:  0.5000000000592083\n",
      "En n=9 es:  0.5000000000592083\n",
      "En n=10 es:  0.5000000000592083\n",
      "¿Desea obtener otra funcion seno? si/no\n",
      "s\n",
      "Ingresa el angulo a evaluar en grados: 45\n",
      "Seno(45.0)=\n",
      "En n=4 es:  0.7071067830093821\n",
      "En n=6 es:  0.7071067812590829\n",
      "En n=9 es:  0.7071067812590625\n",
      "En n=10 es:  0.7071067812590625\n",
      "¿Desea obtener otra funcion seno? si/no\n",
      "n\n",
      "***Fin***\n"
     ]
    }
   ],
   "source": [
    "run T10_Funcion_seno.py"
   ]
  },
  {
   "cell_type": "code",
   "execution_count": null,
   "metadata": {},
   "outputs": [],
   "source": []
  }
 ],
 "metadata": {
  "kernelspec": {
   "display_name": "Python 3 (ipykernel)",
   "language": "python",
   "name": "python3"
  },
  "language_info": {
   "codemirror_mode": {
    "name": "ipython",
    "version": 3
   },
   "file_extension": ".py",
   "mimetype": "text/x-python",
   "name": "python",
   "nbconvert_exporter": "python",
   "pygments_lexer": "ipython3",
   "version": "3.9.12"
  }
 },
 "nbformat": 4,
 "nbformat_minor": 2
}
