{
 "cells": [
  {
   "cell_type": "markdown",
   "metadata": {},
   "source": [
    "Lenguajes de programación "
   ]
  },
  {
   "cell_type": "markdown",
   "metadata": {},
   "source": [
    "Hecho por Edmundo David Rdz. Mendoza para lenguajes de programacion"
   ]
  },
  {
   "cell_type": "markdown",
   "metadata": {},
   "source": [
    "Metodo de Newton Raphson para el problema x²+xy=10 & y+3xy²=57"
   ]
  },
  {
   "cell_type": "code",
   "execution_count": 1,
   "metadata": {},
   "outputs": [
    {
     "name": "stdout",
     "output_type": "stream",
     "text": [
      "Este programa Utilizando el metodo de Newton-Raphson, calcula la raiz de x²+xy=10 & y+3xy²=57 con x[0]=0.5 & y[0]=6\n",
      "Con un error aproximado de:  3.954730115526985e-06 en y & un error aproximado de:  1.9274590036311355e-06 en x\n",
      "La raiz de x= 1.9999999999942195\n",
      "La raiz de y= 3.000000000004794\n"
     ]
    }
   ],
   "source": [
    "run Meodo_de_Newton_Raphson_Derivada_parcial.py "
   ]
  },
  {
   "cell_type": "markdown",
   "metadata": {},
   "source": [
    "Metodo de Newton Raphson para el problema x²-y=2 & y²-x=3"
   ]
  },
  {
   "cell_type": "code",
   "execution_count": 3,
   "metadata": {},
   "outputs": [
    {
     "name": "stdout",
     "output_type": "stream",
     "text": [
      "Este programa Utilizando el metodo de Newton-Raphson, calcula la raiz de x²-y=2 & y²-x=3 con x(0)=1.5 y y(0)=2.5\n",
      "Con un error aproximado de:  1.211036455120714e-07 en y & un error aproximado de:  1.590976017360332e-07 en x\n",
      "La raíz de x= 2.061498850498708\n",
      "La raíz de y= 2.2497775022294704\n"
     ]
    }
   ],
   "source": [
    "run Newton_Raphson_problema_sugerido.py"
   ]
  },
  {
   "cell_type": "code",
   "execution_count": 15,
   "metadata": {
    "scrolled": true
   },
   "outputs": [
    {
     "name": "stdout",
     "output_type": "stream",
     "text": [
      "Regla de Cramer\n",
      "Este programa usando la regla de cramer, permite resolver sistemas de ecuaciones lineales.\n",
      "Minimo 2 ecuaciones de 2 incógnitas y maximo 4 ecuaciones de 4 incognitas\n",
      "De la forma ax1+bx2+cx3=k ; De tal modo que si tenemos 2 ecuaciones de la forma ax+by+cz=d, x sera x1, y=x2 & z=x3\n",
      "y a sera la constante del termino 1, b del 2, c del 3 y así sucesivamente; al final pidiendo k\n",
      "¿Cuantas incógnitas  tienen las ecauciones a evaluar? ejemplo: x1+x2=k ; son de 2 incognitas, no se incluye k\n",
      "Tome en cuenta que el numero de incognitas, determina cuantas ecuaciones son\n",
      "\n",
      "Ingresa el numero de terminos: 3\n",
      "La cantidad de ecuaciones, son:  3\n",
      "De la ecuacion 1\n",
      "Ingrese el coeficiente de x1\n",
      "3\n",
      "Ingrese el coeficiente de x2\n",
      "2\n",
      "Ingrese el coeficiente de x3\n",
      "1\n",
      "Ingrese k =\n",
      "2\n",
      "De la ecuacion 2\n",
      "Ingrese el coeficiente de x1\n",
      "-2\n",
      "Ingrese el coeficiente de x2\n",
      "1\n",
      "Ingrese el coeficiente de x3\n",
      "-7\n",
      "Ingrese k =\n",
      "0\n",
      "De la ecuacion 3\n",
      "Ingrese el coeficiente de x1\n",
      "3\n",
      "Ingrese el coeficiente de x2\n",
      "-1\n",
      "Ingrese el coeficiente de x3\n",
      "8\n",
      "Ingrese k =\n",
      "2\n",
      "De la ecuacion 1: 3.0x1 + 2.0x2 + 1.0x3 = 2.0\n",
      "De la ecuacion 2: -2.0x1 + 1.0x2-7.0x3 = 0.0\n",
      "De la ecuacion 3: 3.0x1-1.0x2 + 8.0x3 = 2.0\n",
      "x1= 3.499999999999999\n",
      "x2= -3.4999999999999973\n",
      "x3= -1.4999999999999991\n"
     ]
    }
   ],
   "source": [
    "run Regla_de_Cramer.py"
   ]
  }
 ],
 "metadata": {
  "kernelspec": {
   "display_name": "Python 3 (ipykernel)",
   "language": "python",
   "name": "python3"
  },
  "language_info": {
   "codemirror_mode": {
    "name": "ipython",
    "version": 3
   },
   "file_extension": ".py",
   "mimetype": "text/x-python",
   "name": "python",
   "nbconvert_exporter": "python",
   "pygments_lexer": "ipython3",
   "version": "3.9.12"
  }
 },
 "nbformat": 4,
 "nbformat_minor": 2
}
